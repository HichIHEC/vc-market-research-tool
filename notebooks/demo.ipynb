{
 "cells": [
  {
   "cell_type": "markdown",
   "metadata": {},
   "source": [
    "# VC Market Research Tool Demo\n",
    "\n",
    "This notebook demonstrates the functionality of the VC Market Research Tool, showcasing sample analyses and visualizations."
   ]
  },
  {
   "cell_type": "code",
   "execution_count": null,
   "metadata": {
    "id": "startup_analysis"
   },
   "outputs": [],
   "source": [
    "from src.analysis.startup_analyzer import StartupAnalyzer\n",
    "\n",
    "# Initialize the StartupAnalyzer\n",
    "startup_analyzer = StartupAnalyzer()\n",
    "\n",
    "# Sample startup description\n",
    "startup_description = \"A tech startup focused on developing AI-driven solutions for healthcare.\"\n",
    "\n",
    "# Analyze the startup\n",
    "startup_profile = startup_analyzer.analyze(startup_description)\n",
    "print(startup_profile)"
   ]
  },
  {
   "cell_type": "code",
   "execution_count": null,
   "metadata": {
    "id": "customer_analysis"
   },
   "outputs": [],
   "source": [
    "from src.analysis.customer_analyzer import CustomerAnalyzer\n",
    "\n",
    "# Initialize the CustomerAnalyzer\n",
    "customer_analyzer = CustomerAnalyzer()\n",
    "\n",
    "# Analyze target customer segments\n",
    "customer_segments = customer_analyzer.profile_segments(startup_profile)\n",
    "print(customer_segments)"
   ]
  },
  {
   "cell_type": "code",
   "execution_count": null,
   "metadata": {
    "id": "competitive_analysis"
   },
   "outputs": [],
   "source": [
    "from src.analysis.competitive_analyzer import CompetitiveAnalyzer\n",
    "\n",
    "# Initialize the CompetitiveAnalyzer\n",
    "competitive_analyzer = CompetitiveAnalyzer()\n",
    "\n",
    "# Analyze the competitive landscape\n",
    "competitive_landscape = competitive_analyzer.map_landscape(startup_profile)\n",
    "print(competitive_landscape)"
   ]
  },
  {
   "cell_type": "code",
   "execution_count": null,
   "metadata": {
    "id": "market_sizing"
   },
   "outputs": [],
   "source": [
    "from src.analysis.market_sizer import MarketSizer\n",
    "\n",
    "# Initialize the MarketSizer\n",
    "market_sizer = MarketSizer()\n",
    "\n",
    "# Calculate market size estimates\n",
    "market_size = market_sizer.calculate_sizes(startup_profile)\n",
    "print(market_size)"
   ]
  },
  {
   "cell_type": "markdown",
   "metadata": {},
   "source": [
    "## Conclusion\n",
    "\n",
    "This notebook provided a demonstration of the VC Market Research Tool's capabilities, including startup analysis, customer profiling, competitive landscape mapping, and market sizing."
   ]
  }
 ],
 "metadata": {
  "kernelspec": {
   "display_name": "Python 3",
   "language": "python",
   "name": "python3"
  },
  "language_info": {
   "codemirror_mode": {
    "name": "ipython",
    "version": 3
   },
   "file_extension": ".py",
   "mimetype": "text/x-python",
   "name": "python",
   "nbconvert_exporter": "python",
   "pygments_lexer": "ipython3",
   "version": "3.8.5"
  }
 },
 "nbformat": 4,
 "nbformat_minor": 4
}